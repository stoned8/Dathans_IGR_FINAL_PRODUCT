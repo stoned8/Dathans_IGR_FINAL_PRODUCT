{
 "cells": [
  {
   "cell_type": "code",
   "execution_count": null,
   "metadata": {
    "collapsed": true
   },
   "outputs": [],
   "source": [
    "import Bio\n",
    "from Bio import SeqIO\n",
    "from Bio import GenBank\n",
    "import sys\n",
    "import os\n",
    "import argparse\n",
    "from Bio.SeqRecord import SeqRecord\n",
    "from Bio.SeqFeature import SeqFeature, FeatureLocation\n",
    "import pandas as pd\n",
    "import re"
   ]
  },
  {
   "cell_type": "code",
   "execution_count": null,
   "metadata": {},
   "outputs": [],
   "source": [
    "user_input = input('Please enter your Genbank file path here and hit ENTER:')"
   ]
  },
  {
   "cell_type": "code",
   "execution_count": null,
   "metadata": {
    "collapsed": true
   },
   "outputs": [],
   "source": [
    "#\"for\" loop so that all the genes are extracted. Their locations are taken and appended into a string\n",
    "Coor = []\n",
    "for rec in SeqIO.parse((user_input), \"genbank\"):\n",
    "    if rec.features:\n",
    "        for feature in rec.features:\n",
    "            if feature.type == \"gene\":\n",
    "                Coor.append(str(feature.location))"
   ]
  },
  {
   "cell_type": "code",
   "execution_count": null,
   "metadata": {
    "collapsed": true
   },
   "outputs": [],
   "source": [
    "#The strings are joined together so that regex can be used. Here regex is used to slice out only the digits.\n",
    "str1 = ''.join(Coor)\n",
    "x = re.findall(r'\\d+', str1)\n",
    "x2 = list(map(int, x)) #The string is converted to a list with integers for later use in pandas DF."
   ]
  },
  {
   "cell_type": "code",
   "execution_count": null,
   "metadata": {
    "collapsed": true
   },
   "outputs": [],
   "source": [
    "#Parsing out the type\"source\" where the feature locations of the genome start and end can be found. \n",
    "CoorSE = []\n",
    "for rec in SeqIO.parse((user_input), \"genbank\"):\n",
    "    if rec.features:\n",
    "        for feature in rec.features:\n",
    "            if feature.type == \"source\":\n",
    "                CoorSE.append(str(feature.location))"
   ]
  },
  {
   "cell_type": "code",
   "execution_count": null,
   "metadata": {
    "collapsed": true
   },
   "outputs": [],
   "source": [
    "str2 = ''.join(CoorSE)#Turned into a string for regex."
   ]
  },
  {
   "cell_type": "code",
   "execution_count": null,
   "metadata": {
    "collapsed": true
   },
   "outputs": [],
   "source": [
    "#Regex is used to cut only the digits out from the start/end coordinates of the genome.\n",
    "xx = re.findall(r'\\d+', str2)#Coordinates are grabbed here\n",
    "yy = re.findall(r'\\d+', str2)[:1]#The start coordinate(0) is grabbed here\n",
    "zz = re.findall(r'\\d+', str2)[1:2]#The end coordiante is grabbed here\n",
    "yyL = list(map(int, yy))#They are then converted into lists for the pandas data frame later.\n",
    "zzL = list(map(int, zz))\n"
   ]
  },
  {
   "cell_type": "code",
   "execution_count": null,
   "metadata": {
    "collapsed": true
   },
   "outputs": [],
   "source": [
    "starts = x2[::2] #All the start coordinates are grabbed from the original list of all coordinates and then seperated into two seperate list for \"starts and stops\".\n",
    "stops = x2[1::2]"
   ]
  },
  {
   "cell_type": "code",
   "execution_count": null,
   "metadata": {
    "collapsed": true
   },
   "outputs": [],
   "source": [
    "\n",
    "IGR_ends = [x-1 for x in starts]#First the IGR ends are calculated and -1 from the (starts) of genes\n",
    "IGR_realends = IGR_ends + zzL#Then the last genome coordinate is added because if it was added before, the data frame would start at -1\n",
    "IGR_starts = [x+1 for x in stops]#Starts of IGRs were calculated by adding +1 to the stops of genes.\n",
    "IGR_realstarts = yyL + IGR_starts"
   ]
  },
  {
   "cell_type": "code",
   "execution_count": null,
   "metadata": {
    "collapsed": true
   },
   "outputs": [],
   "source": [
    "#First pandas dataframe is made with two columns (start and stop) based on the IGR starts and stops variables created before.\n",
    "df = pd.DataFrame({'start': IGR_realstarts})\n",
    "df['stop'] = IGR_realends"
   ]
  },
  {
   "cell_type": "code",
   "execution_count": null,
   "metadata": {
    "collapsed": true
   },
   "outputs": [],
   "source": [
    "#Boolean loop to intepret whether there is an intergenic region present.\n",
    "Loopy = []\n",
    "for start, stop in zip(list(map(int, df.start)), list(map(int, df.stop))):\n",
    "    if start < stop:#If the start of an IGR is less than the end, this means there is an IGR present.\n",
    "        Loopy.append(True)\n",
    "    else:\n",
    "        Loopy.append(False) #if not, it is not appended into the data frame."
   ]
  },
  {
   "cell_type": "code",
   "execution_count": null,
   "metadata": {
    "collapsed": true
   },
   "outputs": [],
   "source": [
    "IGRs = pd.Series(Loopy)#Series was created for the boolean loop so that data can rendered based on the previous df made.\n",
    "df[Loopy]\n",
    "ResultDF = df[Loopy]#Final result"
   ]
  },
  {
   "cell_type": "code",
   "execution_count": null,
   "metadata": {
    "collapsed": true
   },
   "outputs": [],
   "source": [
    "IGRs = [] #Assigning one new column to the dataframe with a name being inserted incrementally.\n",
    "num_IGR_len = len(ResultDF) +1\n",
    "for x in range(1,num_IGR_len):\n",
    "    IGRs.append('IGR_' + str(x)) \n",
    "idx = 0\n",
    "ResultDF.insert(loc=idx, column='IGRs', value=IGRs)"
   ]
  },
  {
   "cell_type": "code",
   "execution_count": null,
   "metadata": {},
   "outputs": [],
   "source": [
    "CSVname = input('make a name for your file and add the extension .csv')\n",
    "ResultDF.to.csv(CSVname) #Allows user to make a file name and export the df into a .csv file"
   ]
  }
 ],
 "metadata": {
  "kernelspec": {
   "display_name": "Python 3",
   "language": "python",
   "name": "python3"
  },
  "language_info": {
   "codemirror_mode": {
    "name": "ipython",
    "version": 3
   },
   "file_extension": ".py",
   "mimetype": "text/x-python",
   "name": "python",
   "nbconvert_exporter": "python",
   "pygments_lexer": "ipython3",
   "version": "3.6.3"
  }
 },
 "nbformat": 4,
 "nbformat_minor": 2
}
